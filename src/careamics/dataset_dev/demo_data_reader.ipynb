{
 "cells": [
  {
   "cell_type": "code",
   "execution_count": null,
   "metadata": {},
   "outputs": [],
   "source": [
    "import numpy as np"
   ]
  },
  {
   "cell_type": "code",
   "execution_count": null,
   "metadata": {},
   "outputs": [],
   "source": [
    "from careamics.dataset_dev.data_reader import DataReader\n",
    "from careamics.dataset_dev.patching import RandomPatchSpecsGenerator"
   ]
  },
  {
   "cell_type": "code",
   "execution_count": null,
   "metadata": {},
   "outputs": [],
   "source": [
    "rng = np.random.default_rng()"
   ]
  },
  {
   "cell_type": "code",
   "execution_count": null,
   "metadata": {},
   "outputs": [],
   "source": [
    "# define example data\n",
    "array1 = np.arange(36).reshape(1, 6, 6)\n",
    "array2 = np.arange(50).reshape(2, 5, 5)\n",
    "target1 = rng.integers(0, 1, size=array1.shape, endpoint=True)\n",
    "target2 = rng.integers(0, 1, size=array2.shape, endpoint=True)"
   ]
  },
  {
   "cell_type": "code",
   "execution_count": null,
   "metadata": {},
   "outputs": [],
   "source": [
    "print(array1)\n",
    "print(array2)\n",
    "print(target1)\n",
    "print(target2)"
   ]
  },
  {
   "cell_type": "code",
   "execution_count": null,
   "metadata": {},
   "outputs": [],
   "source": [
    "# define example readers\n",
    "input_data_reader = DataReader.from_arrays([array1, array2], axes=\"SYX\")\n",
    "target_data_reader = DataReader.from_arrays([target1, target2], axes=\"SYX\")"
   ]
  },
  {
   "cell_type": "code",
   "execution_count": null,
   "metadata": {},
   "outputs": [],
   "source": [
    "# generate random patch specification\n",
    "data_shapes = [\n",
    "    array_reader.data_shape for array_reader in input_data_reader.array_readers\n",
    "]\n",
    "patch_specs_generator = RandomPatchSpecsGenerator(data_shapes)\n",
    "patch_specs = patch_specs_generator.generate(patch_size=(2, 2), seed=42)\n",
    "patch_specs"
   ]
  },
  {
   "cell_type": "code",
   "execution_count": null,
   "metadata": {},
   "outputs": [],
   "source": [
    "# extract a subset of patches\n",
    "input_data_reader.extract_patches(patch_specs[7:11])"
   ]
  },
  {
   "cell_type": "code",
   "execution_count": null,
   "metadata": {},
   "outputs": [],
   "source": [
    "target_data_reader.extract_patches(patch_specs[7:11])"
   ]
  }
 ],
 "metadata": {
  "kernelspec": {
   "display_name": "Python 3",
   "language": "python",
   "name": "python3"
  },
  "language_info": {
   "codemirror_mode": {
    "name": "ipython",
    "version": 3
   },
   "file_extension": ".py",
   "mimetype": "text/x-python",
   "name": "python",
   "nbconvert_exporter": "python",
   "pygments_lexer": "ipython3",
   "version": "3.10.16"
  }
 },
 "nbformat": 4,
 "nbformat_minor": 2
}
