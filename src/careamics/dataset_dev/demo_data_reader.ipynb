{
 "cells": [
  {
   "cell_type": "code",
   "execution_count": 1,
   "metadata": {},
   "outputs": [],
   "source": [
    "import numpy as np"
   ]
  },
  {
   "cell_type": "code",
   "execution_count": 2,
   "metadata": {},
   "outputs": [],
   "source": [
    "from careamics.dataset_dev.data_reader import DataReader\n",
    "from careamics.dataset_dev.patching import RandomPatchSpecsGenerator"
   ]
  },
  {
   "cell_type": "code",
   "execution_count": 3,
   "metadata": {},
   "outputs": [],
   "source": [
    "rng = np.random.default_rng()"
   ]
  },
  {
   "cell_type": "code",
   "execution_count": 4,
   "metadata": {},
   "outputs": [],
   "source": [
    "# define example data\n",
    "array1 = np.arange(36).reshape(1, 6, 6)\n",
    "array2 = np.arange(50).reshape(2, 5, 5)\n",
    "target1 = rng.integers(0, 1, size=array1.shape, endpoint=True)\n",
    "target2 = rng.integers(0, 1, size=array2.shape, endpoint=True)"
   ]
  },
  {
   "cell_type": "code",
   "execution_count": 5,
   "metadata": {},
   "outputs": [
    {
     "name": "stdout",
     "output_type": "stream",
     "text": [
      "[[[ 0  1  2  3  4  5]\n",
      "  [ 6  7  8  9 10 11]\n",
      "  [12 13 14 15 16 17]\n",
      "  [18 19 20 21 22 23]\n",
      "  [24 25 26 27 28 29]\n",
      "  [30 31 32 33 34 35]]]\n",
      "[[[ 0  1  2  3  4]\n",
      "  [ 5  6  7  8  9]\n",
      "  [10 11 12 13 14]\n",
      "  [15 16 17 18 19]\n",
      "  [20 21 22 23 24]]\n",
      "\n",
      " [[25 26 27 28 29]\n",
      "  [30 31 32 33 34]\n",
      "  [35 36 37 38 39]\n",
      "  [40 41 42 43 44]\n",
      "  [45 46 47 48 49]]]\n",
      "[[[1 1 1 1 0 1]\n",
      "  [0 0 1 0 1 0]\n",
      "  [0 1 1 1 0 0]\n",
      "  [0 1 1 0 0 0]\n",
      "  [0 1 1 1 0 0]\n",
      "  [1 0 0 0 0 1]]]\n",
      "[[[0 0 0 1 0]\n",
      "  [0 1 0 0 1]\n",
      "  [1 0 1 1 1]\n",
      "  [1 1 0 0 0]\n",
      "  [0 1 1 1 0]]\n",
      "\n",
      " [[1 0 0 1 1]\n",
      "  [1 0 1 1 1]\n",
      "  [1 1 1 0 1]\n",
      "  [1 0 0 1 0]\n",
      "  [0 0 0 0 0]]]\n"
     ]
    }
   ],
   "source": [
    "print(array1)\n",
    "print(array2)\n",
    "print(target1)\n",
    "print(target2)"
   ]
  },
  {
   "cell_type": "code",
   "execution_count": 6,
   "metadata": {},
   "outputs": [],
   "source": [
    "# define example readers\n",
    "input_data_reader = DataReader.from_arrays([array1, array2], axes=\"SYX\")\n",
    "target_data_reader = DataReader.from_arrays([target1, target2], axes=\"SYX\")"
   ]
  },
  {
   "cell_type": "code",
   "execution_count": 7,
   "metadata": {},
   "outputs": [
    {
     "data": {
      "text/plain": [
       "[{'data_idx': 0, 'sample_idx': 0, 'coords': (0, 3), 'extent': (2, 2)},\n",
       " {'data_idx': 0, 'sample_idx': 0, 'coords': (3, 2), 'extent': (2, 2)},\n",
       " {'data_idx': 0, 'sample_idx': 0, 'coords': (2, 4), 'extent': (2, 2)},\n",
       " {'data_idx': 0, 'sample_idx': 0, 'coords': (0, 3), 'extent': (2, 2)},\n",
       " {'data_idx': 0, 'sample_idx': 0, 'coords': (1, 0), 'extent': (2, 2)},\n",
       " {'data_idx': 0, 'sample_idx': 0, 'coords': (2, 4), 'extent': (2, 2)},\n",
       " {'data_idx': 0, 'sample_idx': 0, 'coords': (3, 3), 'extent': (2, 2)},\n",
       " {'data_idx': 0, 'sample_idx': 0, 'coords': (3, 3), 'extent': (2, 2)},\n",
       " {'data_idx': 0, 'sample_idx': 0, 'coords': (2, 0), 'extent': (2, 2)},\n",
       " {'data_idx': 1, 'sample_idx': 0, 'coords': (3, 1), 'extent': (2, 2)},\n",
       " {'data_idx': 1, 'sample_idx': 0, 'coords': (2, 1), 'extent': (2, 2)},\n",
       " {'data_idx': 1, 'sample_idx': 0, 'coords': (0, 3), 'extent': (2, 2)},\n",
       " {'data_idx': 1, 'sample_idx': 0, 'coords': (3, 2), 'extent': (2, 2)},\n",
       " {'data_idx': 1, 'sample_idx': 0, 'coords': (1, 3), 'extent': (2, 2)},\n",
       " {'data_idx': 1, 'sample_idx': 0, 'coords': (2, 1), 'extent': (2, 2)},\n",
       " {'data_idx': 1, 'sample_idx': 0, 'coords': (1, 0), 'extent': (2, 2)},\n",
       " {'data_idx': 1, 'sample_idx': 1, 'coords': (0, 2), 'extent': (2, 2)},\n",
       " {'data_idx': 1, 'sample_idx': 1, 'coords': (3, 0), 'extent': (2, 2)},\n",
       " {'data_idx': 1, 'sample_idx': 1, 'coords': (3, 3), 'extent': (2, 2)},\n",
       " {'data_idx': 1, 'sample_idx': 1, 'coords': (1, 2), 'extent': (2, 2)},\n",
       " {'data_idx': 1, 'sample_idx': 1, 'coords': (0, 3), 'extent': (2, 2)},\n",
       " {'data_idx': 1, 'sample_idx': 1, 'coords': (2, 1), 'extent': (2, 2)},\n",
       " {'data_idx': 1, 'sample_idx': 1, 'coords': (0, 3), 'extent': (2, 2)}]"
      ]
     },
     "execution_count": 7,
     "metadata": {},
     "output_type": "execute_result"
    }
   ],
   "source": [
    "# generate random patch specification\n",
    "data_shapes = [\n",
    "    array_reader.data_shape for array_reader in input_data_reader.array_readers\n",
    "]\n",
    "patch_specs_generator = RandomPatchSpecsGenerator(data_shapes)\n",
    "patch_specs = patch_specs_generator.generate(patch_size=(2, 2), seed=42)\n",
    "patch_specs"
   ]
  },
  {
   "cell_type": "code",
   "execution_count": 8,
   "metadata": {},
   "outputs": [
    {
     "data": {
      "text/plain": [
       "[array([[[21, 22],\n",
       "         [27, 28]]]),\n",
       " array([[[12, 13],\n",
       "         [18, 19]]]),\n",
       " array([[[16, 17],\n",
       "         [21, 22]]]),\n",
       " array([[[11, 12],\n",
       "         [16, 17]]])]"
      ]
     },
     "execution_count": 8,
     "metadata": {},
     "output_type": "execute_result"
    }
   ],
   "source": [
    "# extract a subset of patches\n",
    "input_data_reader.extract_patches(patch_specs[7:11])"
   ]
  },
  {
   "cell_type": "code",
   "execution_count": 9,
   "metadata": {},
   "outputs": [
    {
     "data": {
      "text/plain": [
       "[array([[[0, 0],\n",
       "         [1, 0]]]),\n",
       " array([[[0, 1],\n",
       "         [0, 1]]]),\n",
       " array([[[1, 0],\n",
       "         [1, 1]]]),\n",
       " array([[[0, 1],\n",
       "         [1, 0]]])]"
      ]
     },
     "execution_count": 9,
     "metadata": {},
     "output_type": "execute_result"
    }
   ],
   "source": [
    "target_data_reader.extract_patches(patch_specs[7:11])"
   ]
  }
 ],
 "metadata": {
  "kernelspec": {
   "display_name": "Python 3",
   "language": "python",
   "name": "python3"
  },
  "language_info": {
   "codemirror_mode": {
    "name": "ipython",
    "version": 3
   },
   "file_extension": ".py",
   "mimetype": "text/x-python",
   "name": "python",
   "nbconvert_exporter": "python",
   "pygments_lexer": "ipython3",
   "version": "3.10.16"
  }
 },
 "nbformat": 4,
 "nbformat_minor": 2
}
