{
 "cells": [
  {
   "cell_type": "code",
   "execution_count": 31,
   "metadata": {},
   "outputs": [],
   "source": [
    "import torch\n",
    "import numpy as np\n",
    "from skimage.metrics import peak_signal_noise_ratio as psnr\n",
    "\n",
    "from careamics.utils.metrics import _zero_mean, scale_invariant_psnr, torch_cast_to_float, _fix, _fix_range"
   ]
  },
  {
   "cell_type": "code",
   "execution_count": 45,
   "metadata": {},
   "outputs": [
    {
     "data": {
      "text/plain": [
       "inf"
      ]
     },
     "execution_count": 45,
     "metadata": {},
     "output_type": "execute_result"
    }
   ],
   "source": [
    "x, y = np.array([1, 2, 3, 4, 5, 6]), np.array([1, 2, 3, 4, 5, 6])\n",
    "# x, y = torch.tensor([1, 2, 3, 4, 5, 6]), torch.tensor([1, 2, 3, 4, 5, 6])\n",
    "# x, y = torch_cast_to_float(x), torch_cast_to_float(y)\n",
    "\n",
    "# scale_invariant_psnr(x, y)\n",
    "psnr(np.asarray(x), np.asarray(y), data_range=5.)"
   ]
  },
  {
   "cell_type": "code",
   "execution_count": 51,
   "metadata": {},
   "outputs": [
    {
     "name": "stdout",
     "output_type": "stream",
     "text": [
      "2.9277002188455996\n",
      "[-1.46385011 -0.87831007 -0.29277002  0.29277002  0.87831007  1.46385011]\n",
      "[-2.5 -1.5 -0.5  0.5  1.5  2.5]\n",
      "[-1.46385011 -0.87831007 -0.29277002  0.29277002  0.87831007  1.46385011]\n",
      "0.5855400437691199\n",
      "[-1.46385011 -0.87831007 -0.29277002  0.29277002  0.87831007  1.46385011]\n",
      "332.22443992463\n",
      "inf\n"
     ]
    },
    {
     "name": "stderr",
     "output_type": "stream",
     "text": [
      "/localscratch/miniforge3/envs/train_lvae/lib/python3.9/site-packages/skimage/metrics/simple_metrics.py:163: RuntimeWarning: divide by zero encountered in scalar divide\n",
      "  return 10 * np.log10((data_range ** 2) / err)\n"
     ]
    },
    {
     "data": {
      "text/plain": [
       "True"
      ]
     },
     "execution_count": 51,
     "metadata": {},
     "output_type": "execute_result"
    }
   ],
   "source": [
    "range_ = (x.max() - x.min()) / x.std()\n",
    "print(range_)\n",
    "x_ = _zero_mean(x) / x.std()\n",
    "print(x_)\n",
    "# fix\n",
    "y_ = _zero_mean(y)\n",
    "print(y_)\n",
    "x__ = _zero_mean(x_)\n",
    "print(x__)\n",
    "# fix range\n",
    "a = (x__ * y_).sum() / (y_**2).sum()\n",
    "print(a)\n",
    "y__ = y_ * a\n",
    "print(y__)\n",
    "print(psnr(np.asarray(x__), np.asarray(y__), data_range=range_))\n",
    "# psnr(\n",
    "#     np.asarray([-1.3363, -0.8018, -0.2673,  0.2673,  0.8018,  1.3363]),\n",
    "#     np.asarray([-1.3363, -0.8018, -0.2673,  0.2673,  0.8018,  1.3363]),\n",
    "#     data_range=2.6726\n",
    "# )\n",
    "print(psnr(\n",
    "    np.asarray([-1.46385011, -0.87831007, -0.29277002,  0.29277002,  0.87831007, 1.46385011]),\n",
    "    np.asarray([-1.46385011, -0.87831007, -0.29277002,  0.29277002,  0.87831007, 1.46385011]),\n",
    "    data_range=2.9277\n",
    "))\n",
    "np.allclose(np.asarray(x__), np.asarray([-1.46385011, -0.87831007, -0.29277002,  0.29277002,  0.87831007, 1.46385011]))"
   ]
  },
  {
   "cell_type": "code",
   "execution_count": 17,
   "metadata": {},
   "outputs": [
    {
     "name": "stderr",
     "output_type": "stream",
     "text": [
      "/home/federico.carrara/Documents/projects/spectral_careamics/src/careamics/utils/metrics.py:158: UserWarning: Casting tensor  of type torch.float32 to double (`torch.float64`).\n",
      "  \n"
     ]
    },
    {
     "data": {
      "text/plain": [
       "tensor([1., 2., 3., 4., 5., 6.], dtype=torch.float64)"
      ]
     },
     "execution_count": 17,
     "metadata": {},
     "output_type": "execute_result"
    }
   ],
   "source": [
    "x = torch.tensor([1, 2, 3, 4, 5, 6], dtype=torch.float32)\n",
    "torch_cast_to_float(x)"
   ]
  }
 ],
 "metadata": {
  "kernelspec": {
   "display_name": "train_lvae",
   "language": "python",
   "name": "python3"
  },
  "language_info": {
   "codemirror_mode": {
    "name": "ipython",
    "version": 3
   },
   "file_extension": ".py",
   "mimetype": "text/x-python",
   "name": "python",
   "nbconvert_exporter": "python",
   "pygments_lexer": "ipython3",
   "version": "3.9.19"
  }
 },
 "nbformat": 4,
 "nbformat_minor": 2
}
