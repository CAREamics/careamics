{
 "cells": [
  {
   "cell_type": "code",
   "execution_count": null,
   "metadata": {},
   "outputs": [],
   "source": [
    "import torch\n",
    "import numpy as np\n",
    "from skimage.metrics import peak_signal_noise_ratio as psnr\n",
    "\n",
    "from careamics.utils.metrics import _zero_mean, scale_invariant_psnr, torch_cast_to_float, _fix, _fix_range"
   ]
  },
  {
   "cell_type": "code",
   "execution_count": null,
   "metadata": {},
   "outputs": [],
   "source": [
    "x, y = np.array([1, 2, 3, 4, 5, 6]), np.array([1, 2, 3, 4, 5, 6])\n",
    "# x, y = torch.tensor([1, 2, 3, 4, 5, 6]), torch.tensor([1, 2, 3, 4, 5, 6])\n",
    "# x, y = torch_cast_to_float(x), torch_cast_to_float(y)\n",
    "\n",
    "# scale_invariant_psnr(x, y)\n",
    "psnr(np.asarray(x), np.asarray(y), data_range=5.)"
   ]
  },
  {
   "cell_type": "code",
   "execution_count": null,
   "metadata": {},
   "outputs": [],
   "source": [
    "range_ = (x.max() - x.min()) / x.std()\n",
    "print(range_)\n",
    "x_ = _zero_mean(x) / x.std()\n",
    "print(x_)\n",
    "# fix\n",
    "y_ = _zero_mean(y)\n",
    "print(y_)\n",
    "x__ = _zero_mean(x_)\n",
    "print(x__)\n",
    "# fix range\n",
    "a = (x__ * y_).sum() / (y_**2).sum()\n",
    "print(a)\n",
    "y__ = y_ * a\n",
    "print(y__)\n",
    "print(psnr(np.asarray(x__), np.asarray(y__), data_range=range_))\n",
    "# psnr(\n",
    "#     np.asarray([-1.3363, -0.8018, -0.2673,  0.2673,  0.8018,  1.3363]),\n",
    "#     np.asarray([-1.3363, -0.8018, -0.2673,  0.2673,  0.8018,  1.3363]),\n",
    "#     data_range=2.6726\n",
    "# )\n",
    "print(psnr(\n",
    "    np.asarray([-1.46385011, -0.87831007, -0.29277002,  0.29277002,  0.87831007, 1.46385011]),\n",
    "    np.asarray([-1.46385011, -0.87831007, -0.29277002,  0.29277002,  0.87831007, 1.46385011]),\n",
    "    data_range=2.9277\n",
    "))\n",
    "np.allclose(np.asarray(x__), np.asarray([-1.46385011, -0.87831007, -0.29277002,  0.29277002,  0.87831007, 1.46385011]))"
   ]
  },
  {
   "cell_type": "code",
   "execution_count": null,
   "metadata": {},
   "outputs": [],
   "source": [
    "x = torch.tensor([1, 2, 3, 4, 5, 6], dtype=torch.float32)\n",
    "torch_cast_to_float(x)"
   ]
  }
 ],
 "metadata": {
  "kernelspec": {
   "display_name": "train_lvae",
   "language": "python",
   "name": "python3"
  },
  "language_info": {
   "codemirror_mode": {
    "name": "ipython",
    "version": 3
   },
   "file_extension": ".py",
   "mimetype": "text/x-python",
   "name": "python",
   "nbconvert_exporter": "python",
   "pygments_lexer": "ipython3",
   "version": "3.9.19"
  }
 },
 "nbformat": 4,
 "nbformat_minor": 2
}
