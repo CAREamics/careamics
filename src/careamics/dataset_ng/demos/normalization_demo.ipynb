{
 "cells": [
  {
   "cell_type": "code",
   "execution_count": null,
   "metadata": {},
   "outputs": [],
   "source": [
    "import numpy as np\n",
    "from careamics_portfolio import PortfolioManager\n",
    "\n",
    "from careamics.lightning.dataset_ng.data_module import CareamicsDataModule"
   ]
  },
  {
   "cell_type": "code",
   "execution_count": null,
   "metadata": {},
   "outputs": [],
   "source": [
    "\n",
    "portfolio = PortfolioManager()\n",
    "files = portfolio.denoiseg.MouseNuclei_n20.download()\n",
    "files.sort()\n",
    "\n",
    "train_data = np.load(files[1])[\"X_train\"]\n",
    "print(f\"Train data shape: {train_data.shape}\")\n",
    "\n",
    "print(\"Train data first sample stats before normalization:\")\n",
    "print(f\"Mean: {train_data[0].mean()}\")\n",
    "print(f\"Std: {train_data[0].std()}\")"
   ]
  },
  {
   "cell_type": "code",
   "execution_count": null,
   "metadata": {},
   "outputs": [],
   "source": [
    "# Default normalization\n",
    "\n",
    "from careamics.config.data import NGDataConfig\n",
    "\n",
    "config = NGDataConfig(\n",
    "    data_type=\"array\",\n",
    "    axes=\"SYX\",\n",
    "    patch_size=[64, 64],\n",
    "    batch_size=16,\n",
    "    patching={\n",
    "        \"name\": \"random\",\n",
    "        \"patch_size\": [64, 64]\n",
    "    },\n",
    "    augmentations=[],\n",
    "    image_means=[train_data.mean()],\n",
    "    image_stds=[train_data.std()]\n",
    ")\n",
    "\n",
    "train_data_module = CareamicsDataModule(\n",
    "    data_config=config,\n",
    "    train_data=train_data,\n",
    "    val_data=train_data\n",
    ")\n",
    "train_data_module.setup(stage=\"fit\")\n",
    "sample = train_data_module.train_dataset[0][0]\n",
    "print(\"Sample mean and std after mean/std normalization:\")\n",
    "print(f\"Mean: {sample.data.mean()}\")\n",
    "print(f\"Std: {sample.data.std()}\")"
   ]
  },
  {
   "cell_type": "code",
   "execution_count": null,
   "metadata": {},
   "outputs": [],
   "source": [
    "# Default normalization\n",
    "\n",
    "from careamics.config.data import NGDataConfig\n",
    "\n",
    "config = NGDataConfig(\n",
    "    data_type=\"array\",\n",
    "    axes=\"SYX\",\n",
    "    patch_size=[64, 64],\n",
    "    batch_size=16,\n",
    "    patching={\n",
    "        \"name\": \"random\",\n",
    "        \"patch_size\": [64, 64]\n",
    "    },\n",
    "    augmentations=[],\n",
    "    image_means=[train_data.mean()],\n",
    "    image_stds=[train_data.std()],\n",
    "    normalization={\"name\": \"none\"}\n",
    ")\n",
    "\n",
    "train_data_module = CareamicsDataModule(\n",
    "    data_config=config,\n",
    "    train_data=train_data,\n",
    "    val_data=train_data\n",
    ")\n",
    "train_data_module.setup(stage=\"fit\")\n",
    "sample = train_data_module.train_dataset[0][0]\n",
    "print(\"Sample mean and std after no normalization:\")\n",
    "print(f\"Mean: {sample.data.mean()}\")\n",
    "print(f\"Std: {sample.data.std()}\")"
   ]
  },
  {
   "cell_type": "code",
   "execution_count": null,
   "metadata": {},
   "outputs": [],
   "source": [
    "# Default normalization\n",
    "\n",
    "from careamics.config.data import NGDataConfig\n",
    "\n",
    "config = NGDataConfig(\n",
    "    data_type=\"array\",\n",
    "    axes=\"SYX\",\n",
    "    patch_size=[64, 64],\n",
    "    batch_size=16,\n",
    "    patching={\n",
    "        \"name\": \"random\",\n",
    "        \"patch_size\": [64, 64]\n",
    "    },\n",
    "    augmentations=[],\n",
    "    image_means=[train_data.mean()],\n",
    "    image_stds=[train_data.std()],\n",
    "    normalization={\"name\": \"quantile\", \"lower\": 0.01, \"upper\": 0.99}\n",
    ")\n",
    "\n",
    "train_data_module = CareamicsDataModule(\n",
    "    data_config=config,\n",
    "    train_data=train_data,\n",
    "    val_data=train_data\n",
    ")\n",
    "train_data_module.setup(stage=\"fit\")\n",
    "print(\"Sample mean and std after quantile normalization:\")\n",
    "print(f\"Mean: {sample.data.mean()}\")\n",
    "print(f\"Std: {sample.data.std()}\")"
   ]
  },
  {
   "cell_type": "code",
   "execution_count": null,
   "metadata": {},
   "outputs": [],
   "source": [
    "sample.axes"
   ]
  }
 ],
 "metadata": {
  "kernelspec": {
   "display_name": "Python 3",
   "language": "python",
   "name": "python3"
  },
  "language_info": {
   "codemirror_mode": {
    "name": "ipython",
    "version": 3
   },
   "file_extension": ".py",
   "mimetype": "text/x-python",
   "name": "python",
   "nbconvert_exporter": "python",
   "pygments_lexer": "ipython3",
   "version": "3.10.14"
  }
 },
 "nbformat": 4,
 "nbformat_minor": 2
}
