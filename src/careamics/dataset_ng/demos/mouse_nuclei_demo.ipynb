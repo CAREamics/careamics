{
 "cells": [
  {
   "cell_type": "code",
   "execution_count": null,
   "metadata": {},
   "outputs": [],
   "source": [
    "from pathlib import Path\n",
    "\n",
    "import matplotlib.pyplot as plt\n",
    "import numpy as np\n",
    "from careamics_portfolio import PortfolioManager\n",
    "\n",
    "from careamics.config.configuration_factories import create_n2v_configuration\n",
    "from careamics.config.support import SupportedTransform\n",
    "from careamics.lightning.callbacks import HyperParametersCallback\n",
    "from careamics.lightning.dataset_ng.data_module import CareamicsDataModule\n",
    "from careamics.lightning.dataset_ng.lightning_modules import N2VModule"
   ]
  },
  {
   "cell_type": "code",
   "execution_count": null,
   "metadata": {},
   "outputs": [],
   "source": [
    "portfolio = PortfolioManager()\n",
    "files = portfolio.denoiseg.MouseNuclei_n20.download()\n",
    "files.sort()\n",
    "\n",
    "# load images\n",
    "train_data = np.load(files[1])[\"X_train\"]\n",
    "print(f\"Train data shape: {train_data.shape}\")"
   ]
  },
  {
   "cell_type": "code",
   "execution_count": null,
   "metadata": {},
   "outputs": [],
   "source": [
    "indices = [34, 293, 571, 783]\n",
    "\n",
    "fig, ax = plt.subplots(2, 2, figsize=(8, 8))\n",
    "ax[0, 0].imshow(train_data[indices[0]], cmap=\"gray\")\n",
    "ax[0, 0].set_title(f\"Image {indices[0]}\")\n",
    "ax[0, 0].set_xticks([])\n",
    "ax[0, 0].set_yticks([])\n",
    "\n",
    "ax[0, 1].imshow(train_data[indices[1]], cmap=\"gray\")\n",
    "ax[0, 1].set_title(f\"Image {indices[1]}\")\n",
    "ax[0, 1].set_xticks([])\n",
    "ax[0, 1].set_yticks([])\n",
    "\n",
    "ax[1, 0].imshow(train_data[indices[2]], cmap=\"gray\")\n",
    "ax[1, 0].set_title(f\"Image {indices[2]}\")\n",
    "ax[1, 0].set_xticks([])\n",
    "ax[1, 0].set_yticks([])\n",
    "\n",
    "ax[1, 1].imshow(train_data[indices[3]], cmap=\"gray\")\n",
    "ax[1, 1].set_title(f\"Image {indices[3]}\")\n",
    "ax[1, 1].set_xticks([])\n",
    "ax[1, 1].set_yticks([])\n",
    "\n",
    "plt.show()"
   ]
  },
  {
   "cell_type": "code",
   "execution_count": null,
   "metadata": {},
   "outputs": [],
   "source": [
    "config = create_n2v_configuration(\n",
    "    experiment_name=\"mouse_nuclei_n2v\",\n",
    "    data_type=\"array\",\n",
    "    axes=\"SYX\",\n",
    "    patch_size=(64, 64),\n",
    "    batch_size=16,\n",
    "    num_epochs=10,\n",
    ")\n",
    "\n",
    "print(config)"
   ]
  },
  {
   "cell_type": "code",
   "execution_count": null,
   "metadata": {},
   "outputs": [],
   "source": [
    "# Ensuring that transforms are set\n",
    "config.data_config.transforms =[\n",
    "    {\n",
    "        \"name\": SupportedTransform.XY_FLIP.value,\n",
    "        \"flip_x\": True,\n",
    "        \"flip_y\": True,\n",
    "    },\n",
    "    {\n",
    "        \"name\": SupportedTransform.XY_RANDOM_ROTATE90.value,\n",
    "    },\n",
    "]"
   ]
  },
  {
   "cell_type": "code",
   "execution_count": null,
   "metadata": {},
   "outputs": [],
   "source": [
    "from sklearn.model_selection import train_test_split\n",
    "\n",
    "train_data, val_data = train_test_split(train_data, test_size=0.1, random_state=42)\n"
   ]
  },
  {
   "cell_type": "code",
   "execution_count": null,
   "metadata": {},
   "outputs": [],
   "source": [
    "train_data_module = CareamicsDataModule(\n",
    "    data_config=config.data_config,\n",
    "    train_data=train_data,\n",
    "    val_data=val_data,\n",
    ")\n",
    "\n",
    "model = N2VModule(config.algorithm_config)"
   ]
  },
  {
   "cell_type": "code",
   "execution_count": null,
   "metadata": {},
   "outputs": [],
   "source": [
    "from pytorch_lightning import Trainer\n",
    "from pytorch_lightning.callbacks import ModelCheckpoint\n",
    "from pytorch_lightning.loggers import WandbLogger\n",
    "\n",
    "root = Path(\"nuclei_n2v\")\n",
    "callbacks = [\n",
    "    ModelCheckpoint(\n",
    "        dirpath=root / \"checkpoints\",\n",
    "        filename=\"nuclei_new_lightning_module\",\n",
    "        save_last=True,\n",
    "        monitor=\"val_loss\",\n",
    "        mode=\"min\",\n",
    "    ),\n",
    "    HyperParametersCallback(config)\n",
    "]\n",
    "logger = WandbLogger(\n",
    "    project=\"nuclei-n2v\", name=\"nuclei_new_lightning_module\"\n",
    ")\n",
    "\n",
    "trainer = Trainer(\n",
    "    max_epochs=10,\n",
    "    default_root_dir=root,\n",
    "    callbacks=callbacks,\n",
    "    logger=logger\n",
    ")\n",
    "trainer.fit(model, datamodule=train_data_module)"
   ]
  },
  {
   "cell_type": "code",
   "execution_count": null,
   "metadata": {},
   "outputs": [],
   "source": [
    "from careamics.config.inference_model import InferenceConfig\n",
    "from careamics.dataset_ng.legacy_interoperability import imageregions_to_tileinfos\n",
    "from careamics.prediction_utils import convert_outputs\n",
    "\n",
    "train_data = np.load(files[1])[\"X_train\"]\n",
    "\n",
    "config = InferenceConfig(\n",
    "    model_config=config,\n",
    "    data_type=\"array\",\n",
    "    tile_size=(64, 64),\n",
    "    tile_overlap=(32, 32),\n",
    "    axes=\"SYX\",\n",
    "    batch_size=1,\n",
    "    image_means=train_data_module.train_dataset.input_stats.means,\n",
    "    image_stds=train_data_module.train_dataset.input_stats.stds\n",
    ")\n",
    "\n",
    "inf_data_module = CareamicsDataModule(\n",
    "    data_config=config,\n",
    "    pred_data=train_data\n",
    ")"
   ]
  },
  {
   "cell_type": "code",
   "execution_count": null,
   "metadata": {},
   "outputs": [],
   "source": [
    "predictions = trainer.predict(model, datamodule=inf_data_module)\n",
    "tile_infos = imageregions_to_tileinfos(predictions)\n",
    "predictions = convert_outputs(tile_infos, tiled=True)\n",
    "predictions = np.stack(predictions).squeeze()"
   ]
  },
  {
   "cell_type": "code",
   "execution_count": null,
   "metadata": {},
   "outputs": [],
   "source": [
    "files = portfolio.denoiseg.MouseNuclei_n0.download()\n",
    "files.sort()\n",
    "\n",
    "gt_data = np.load(files[1])[\"X_train\"]\n",
    "print(f\"GT data shape: {gt_data.shape}\")\n",
    "print(f\"Predictions shape: {predictions.shape}\")"
   ]
  },
  {
   "cell_type": "code",
   "execution_count": null,
   "metadata": {},
   "outputs": [],
   "source": [
    "from careamics.utils.metrics import scale_invariant_psnr\n",
    "\n",
    "indices = [389, 621]\n",
    "\n",
    "for i in indices:\n",
    "    # compute psnr\n",
    "    psnr_noisy = scale_invariant_psnr(gt_data[i], train_data[i])\n",
    "    psnr_denoised = scale_invariant_psnr(gt_data[i], predictions[i].squeeze())\n",
    "\n",
    "    # plot images\n",
    "    fig, ax = plt.subplots(1, 3, figsize=(10, 10))\n",
    "    ax[0].imshow(train_data[i], cmap=\"gray\")\n",
    "    ax[0].set_title(f\"Noisy Image\\nPSNR: {psnr_noisy:.2f}\")\n",
    "    ax[0].set_xticks([])\n",
    "    ax[0].set_yticks([])\n",
    "\n",
    "    ax[1].imshow(predictions[i].squeeze(), cmap=\"gray\")\n",
    "    ax[1].set_title(f\"Denoised Image\\nPSNR: {psnr_denoised:.2f}\")\n",
    "    ax[1].set_xticks([])\n",
    "    ax[1].set_yticks([])\n",
    "\n",
    "    ax[2].imshow(gt_data[i], cmap=\"gray\")\n",
    "    ax[2].set_title(\"GT Image\")\n",
    "    ax[2].set_xticks([])\n",
    "    ax[2].set_yticks([])\n",
    "\n",
    "    plt.show()"
   ]
  },
  {
   "cell_type": "code",
   "execution_count": null,
   "metadata": {},
   "outputs": [],
   "source": [
    "psnrs = np.zeros(gt_data.shape[0])\n",
    "\n",
    "for i in range(gt_data.shape[0]):\n",
    "    psnrs[i] = scale_invariant_psnr(gt_data[i], predictions[i].squeeze())\n",
    "\n",
    "print(f\"PSNR: {np.mean(psnrs):.2f} ± {np.std(psnrs):.2f}\")"
   ]
  }
 ],
 "metadata": {
  "kernelspec": {
   "display_name": "Python 3",
   "language": "python",
   "name": "python3"
  },
  "language_info": {
   "codemirror_mode": {
    "name": "ipython",
    "version": 3
   },
   "file_extension": ".py",
   "mimetype": "text/x-python",
   "name": "python",
   "nbconvert_exporter": "python",
   "pygments_lexer": "ipython3",
   "version": "3.9.20"
  }
 },
 "nbformat": 4,
 "nbformat_minor": 2
}
