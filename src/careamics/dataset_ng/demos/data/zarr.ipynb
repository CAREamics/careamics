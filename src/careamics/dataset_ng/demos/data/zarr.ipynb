{
 "cells": [
  {
   "cell_type": "code",
   "execution_count": null,
   "id": "0",
   "metadata": {},
   "outputs": [],
   "source": [
    "from pathlib import Path\n",
    "\n",
    "import tifffile\n",
    "import zarr"
   ]
  },
  {
   "cell_type": "code",
   "execution_count": null,
   "id": "1",
   "metadata": {},
   "outputs": [],
   "source": [
    "# create paths for the data\n",
    "data_path = Path(\"denoising-N2V_BSD68.unzip/BSD68_reproducibility_data\")\n",
    "train_path = data_path / \"train\" / \"DCNN400_train_gaussian25.tiff\"\n",
    "val_path = data_path / \"val\" / \"DCNN400_validation_gaussian25.tiff\""
   ]
  },
  {
   "cell_type": "code",
   "execution_count": null,
   "id": "2",
   "metadata": {},
   "outputs": [],
   "source": [
    "store = zarr.storage.LocalStore(\"bsd68.zarr\")\n",
    "root = zarr.create_group(store=store)\n",
    "\n",
    "\n"
   ]
  },
  {
   "cell_type": "code",
   "execution_count": null,
   "id": "3",
   "metadata": {},
   "outputs": [],
   "source": [
    "# add train images to train group\n",
    "train = root.create_group('train')\n",
    "train_img = tifffile.imread(train_path)\n",
    "\n",
    "for i in range(train_img.shape[0]):\n",
    "\n",
    "    img = train_img[i]\n",
    "    name = f\"img_{i:04d}\"\n",
    "    train.create_array(name=name, data=img, chunks=(128, 128))\n"
   ]
  },
  {
   "cell_type": "code",
   "execution_count": null,
   "id": "4",
   "metadata": {},
   "outputs": [],
   "source": [
    "# add validation images to train group\n",
    "val = root.create_group('val')\n",
    "val_img = tifffile.imread(val_path)\n",
    "\n",
    "for i in range(val_img.shape[0]):\n",
    "\n",
    "    img = val_img[i]\n",
    "    name = f\"img_{i:04d}\"\n",
    "    val.create_array(name=name, data=img, chunks=(128, 128))\n"
   ]
  },
  {
   "cell_type": "code",
   "execution_count": null,
   "id": "5",
   "metadata": {},
   "outputs": [],
   "source": [
    "test_gt_f = sorted([f for f in (data_path / \"test\" / \"gt\").glob(\"*.tiff\")])\n",
    "test_raw_f = sorted([f for f in (data_path / \"test\" / \"images\").glob(\"*.tiff\")])\n",
    "\n"
   ]
  },
  {
   "cell_type": "code",
   "execution_count": null,
   "id": "6",
   "metadata": {},
   "outputs": [],
   "source": [
    "# add test gt to zarr\n",
    "test_gt_z = root.create_group('test_gt')\n",
    "test_raw_z = root.create_group('test_raw')"
   ]
  },
  {
   "cell_type": "code",
   "execution_count": null,
   "id": "7",
   "metadata": {},
   "outputs": [],
   "source": [
    "# add test gt to zarr\n",
    "\n",
    "# for i in test_gt_f:\n",
    "#     img = tifffile.imread(i)\n",
    "#     name = i.stem\n",
    "#     test_gt_z.create_array(name=name, data=img, chunks=(128, 128))\n",
    "\n",
    "# add test raw to zarr\n",
    "for i in test_raw_f:\n",
    "    img = tifffile.imread(i)\n",
    "    name = i.stem\n",
    "    test_raw_z.create_array(name=name, data=img, chunks=(128, 128))\n"
   ]
  },
  {
   "cell_type": "code",
   "execution_count": null,
   "id": "8",
   "metadata": {},
   "outputs": [],
   "source": []
  }
 ],
 "metadata": {
  "kernelspec": {
   "display_name": "Python 3",
   "language": "python",
   "name": "python3"
  },
  "language_info": {
   "codemirror_mode": {
    "name": "ipython",
    "version": 3
   },
   "file_extension": ".py",
   "mimetype": "text/x-python",
   "name": "python",
   "nbconvert_exporter": "python",
   "pygments_lexer": "ipython3",
   "version": "3.12.11"
  }
 },
 "nbformat": 4,
 "nbformat_minor": 5
}
