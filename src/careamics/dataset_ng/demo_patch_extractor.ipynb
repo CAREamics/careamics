{
 "cells": [
  {
   "cell_type": "code",
   "execution_count": null,
   "metadata": {},
   "outputs": [],
   "source": [
    "import numpy as np"
   ]
  },
  {
   "cell_type": "code",
   "execution_count": null,
   "metadata": {},
   "outputs": [],
   "source": [
    "from careamics.dataset_ng.patch_extractor import PatchExtractor\n",
    "from careamics.dataset_ng.patch_extractor.image_stack import InMemoryImageStack\n",
    "from careamics.dataset_ng.patching_strategies import RandomPatchSpecsGenerator"
   ]
  },
  {
   "cell_type": "code",
   "execution_count": null,
   "metadata": {},
   "outputs": [],
   "source": [
    "array = np.arange(36).reshape(6, 6)\n",
    "image_stack = InMemoryImageStack.from_array(data=array, axes=\"YX\")\n",
    "image_stack.extract_patch(sample_idx=0, coords=(2, 2), patch_size=(3, 3))"
   ]
  },
  {
   "cell_type": "code",
   "execution_count": null,
   "metadata": {},
   "outputs": [],
   "source": [
    "rng = np.random.default_rng()"
   ]
  },
  {
   "cell_type": "code",
   "execution_count": null,
   "metadata": {},
   "outputs": [],
   "source": [
    "# define example data\n",
    "array1 = np.arange(36).reshape(1, 6, 6)\n",
    "array2 = np.arange(50).reshape(2, 5, 5)\n",
    "target1 = rng.integers(0, 1, size=array1.shape, endpoint=True)\n",
    "target2 = rng.integers(0, 1, size=array2.shape, endpoint=True)"
   ]
  },
  {
   "cell_type": "code",
   "execution_count": null,
   "metadata": {},
   "outputs": [],
   "source": [
    "print(array1)\n",
    "print(array2)\n",
    "print(target1)\n",
    "print(target2)"
   ]
  },
  {
   "cell_type": "code",
   "execution_count": null,
   "metadata": {},
   "outputs": [],
   "source": [
    "# define example readers\n",
    "input_patch_extractor = PatchExtractor.from_arrays([array1, array2], axes=\"SYX\")\n",
    "target_patch_extractor = PatchExtractor.from_arrays([target1, target2], axes=\"SYX\")"
   ]
  },
  {
   "cell_type": "code",
   "execution_count": null,
   "metadata": {},
   "outputs": [],
   "source": [
    "# generate random patch specification\n",
    "data_shapes = [\n",
    "    image_stack.data_shape for image_stack in input_patch_extractor.image_stacks\n",
    "]\n",
    "patch_specs_generator = RandomPatchSpecsGenerator(data_shapes)\n",
    "patch_specs = patch_specs_generator.generate(patch_size=(2, 2), seed=42)\n",
    "patch_specs"
   ]
  },
  {
   "cell_type": "code",
   "execution_count": null,
   "metadata": {},
   "outputs": [],
   "source": [
    "# extract a subset of patches\n",
    "input_patch_extractor.extract_patches(patch_specs[7:11])"
   ]
  },
  {
   "cell_type": "code",
   "execution_count": null,
   "metadata": {},
   "outputs": [],
   "source": [
    "target_patch_extractor.extract_patches(patch_specs[7:11])"
   ]
  }
 ],
 "metadata": {
  "kernelspec": {
   "display_name": "Python 3",
   "language": "python",
   "name": "python3"
  },
  "language_info": {
   "codemirror_mode": {
    "name": "ipython",
    "version": 3
   },
   "file_extension": ".py",
   "mimetype": "text/x-python",
   "name": "python",
   "nbconvert_exporter": "python",
   "pygments_lexer": "ipython3",
   "version": "3.10.16"
  }
 },
 "nbformat": 4,
 "nbformat_minor": 2
}
