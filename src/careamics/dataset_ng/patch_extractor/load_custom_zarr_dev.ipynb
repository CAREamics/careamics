{
 "cells": [
  {
   "cell_type": "code",
   "execution_count": null,
   "metadata": {},
   "outputs": [],
   "source": [
    "from collections.abc import Sequence\n",
    "from pathlib import Path\n",
    "\n",
    "import numpy as np\n",
    "import zarr\n",
    "from numpy.typing import NDArray\n",
    "from zarr.storage import FSStore"
   ]
  },
  {
   "cell_type": "code",
   "execution_count": null,
   "metadata": {},
   "outputs": [],
   "source": [
    "from careamics.dataset_ng.patch_extractor import PatchExtractor\n",
    "from careamics.dataset_ng.patch_extractor.image_stack import ZarrImageStack"
   ]
  },
  {
   "cell_type": "code",
   "execution_count": null,
   "metadata": {},
   "outputs": [],
   "source": [
    "def create_zarr_array(file_path: Path, data_path: str, data: NDArray):\n",
    "    store = FSStore(url=file_path.resolve())\n",
    "    # create array\n",
    "    array = zarr.create(\n",
    "        store=store,\n",
    "        shape=data.shape,\n",
    "        chunks=data.shape,  # only 1 chunk\n",
    "        dtype=np.uint16,\n",
    "        path=data_path,\n",
    "    )\n",
    "    # write data\n",
    "    array[...] = data\n",
    "    store.close()\n",
    "\n",
    "def create_zarr_group(file_path: Path, group_path: str):\n",
    "    store = FSStore(url=file_path.resolve())\n",
    "    zarr.open_group(store, path=group_path)\n",
    "    store.close()\n",
    "\n",
    "# def create_zarr(\n",
    "#     file_path: Path, data_paths: Sequence[str], data: Sequence[NDArray]\n",
    "# ):\n",
    "#     store = FSStore(url=file_path.resolve())\n",
    "#     _ = zarr.open_group(store)\n",
    "#     store.close()\n",
    "#     for data_path, array in zip(data_paths, data):\n",
    "#         for parent_path in Path(data_path).parents[-2::-1]:\n",
    "#             create_zarr_group(file_path=file_path, group_path=str(parent_path))\n",
    "#         create_zarr_array(file_path=file_path, data_path=data_path, data=array)\n",
    "def create_zarr(\n",
    "    file_path: Path, data_paths: Sequence[str], data: Sequence[NDArray]\n",
    "):\n",
    "    for data_path, array in zip(data_paths, data):\n",
    "        create_zarr_array(file_path=file_path, data_path=data_path, data=array)"
   ]
  },
  {
   "cell_type": "code",
   "execution_count": null,
   "metadata": {},
   "outputs": [],
   "source": [
    "dir_path = Path(\"/home/melisande.croft/Documents/Data\")\n",
    "file_name = \"test_ngff_image.zarr\"\n",
    "file_path = dir_path / file_name\n",
    "\n",
    "data_paths = [\n",
    "    \"image_1\",\n",
    "    \"group_1/image_1.1\",\n",
    "    \"group_1/image_1.2\",\n",
    "]\n",
    "data_shapes = [\n",
    "    (1, 3, 64, 64),\n",
    "    (1, 3, 32, 48),\n",
    "    (1, 3, 32, 32)\n",
    "]\n",
    "data = [\n",
    "    np.random.randint(1, 255, size=shape, dtype=np.uint8) for shape in data_shapes\n",
    "]\n",
    "create_zarr(file_path, data_paths, data)"
   ]
  },
  {
   "cell_type": "code",
   "execution_count": null,
   "metadata": {},
   "outputs": [],
   "source": [
    "store = FSStore(url=file_path.resolve(), mode=\"r\")"
   ]
  },
  {
   "cell_type": "code",
   "execution_count": null,
   "metadata": {},
   "outputs": [],
   "source": [
    "list(store.keys())"
   ]
  },
  {
   "cell_type": "code",
   "execution_count": null,
   "metadata": {},
   "outputs": [],
   "source": [
    "zarr.open_group(store)[\"group_1\"]"
   ]
  },
  {
   "cell_type": "code",
   "execution_count": null,
   "metadata": {},
   "outputs": [],
   "source": [
    "def custom_image_stack_loader(store: FSStore, data_paths: Sequence[str], axes=\"str\"):\n",
    "    image_stacks = [\n",
    "        ZarrImageStack(store=store, data_path=data_path, axes=axes)\n",
    "        for data_path in data_paths\n",
    "    ]\n",
    "    return image_stacks"
   ]
  },
  {
   "cell_type": "code",
   "execution_count": null,
   "metadata": {},
   "outputs": [],
   "source": [
    "image_stacks = custom_image_stack_loader(\n",
    "    store=store, data_paths=data_paths, axes=\"SCYX\"\n",
    ")"
   ]
  },
  {
   "cell_type": "code",
   "execution_count": null,
   "metadata": {},
   "outputs": [],
   "source": [
    "patch_extractor = PatchExtractor(image_stacks)"
   ]
  },
  {
   "cell_type": "code",
   "execution_count": null,
   "metadata": {},
   "outputs": [],
   "source": [
    "import matplotlib.pyplot as plt"
   ]
  },
  {
   "cell_type": "code",
   "execution_count": null,
   "metadata": {},
   "outputs": [],
   "source": [
    "patch = patch_extractor.extract_patch(0, 0, (8, 16), (16, 16))\n",
    "plt.imshow(np.moveaxis(patch, 0, -1))"
   ]
  },
  {
   "cell_type": "code",
   "execution_count": null,
   "metadata": {},
   "outputs": [],
   "source": []
  }
 ],
 "metadata": {
  "kernelspec": {
   "display_name": "Python 3",
   "language": "python",
   "name": "python3"
  },
  "language_info": {
   "codemirror_mode": {
    "name": "ipython",
    "version": 3
   },
   "file_extension": ".py",
   "mimetype": "text/x-python",
   "name": "python",
   "nbconvert_exporter": "python",
   "pygments_lexer": "ipython3",
   "version": "3.11.11"
  }
 },
 "nbformat": 4,
 "nbformat_minor": 2
}
