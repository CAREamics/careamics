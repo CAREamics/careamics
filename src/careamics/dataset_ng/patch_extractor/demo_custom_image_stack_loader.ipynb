{
 "cells": [
  {
   "cell_type": "code",
   "execution_count": null,
   "metadata": {},
   "outputs": [],
   "source": [
    "from collections.abc import Sequence\n",
    "from pathlib import Path\n",
    "from typing import TypedDict\n",
    "\n",
    "import matplotlib.pyplot as plt\n",
    "import numpy as np\n",
    "import zarr\n",
    "from numpy.typing import NDArray\n",
    "from zarr.storage import FSStore"
   ]
  },
  {
   "cell_type": "code",
   "execution_count": null,
   "metadata": {},
   "outputs": [],
   "source": [
    "from careamics.config import DataConfig\n",
    "from careamics.dataset_ng.patch_extractor import create_patch_extractor\n",
    "from careamics.dataset_ng.patch_extractor.image_stack import ZarrImageStack"
   ]
  },
  {
   "cell_type": "code",
   "execution_count": null,
   "metadata": {},
   "outputs": [],
   "source": [
    "def create_zarr_array(file_path: Path, data_path: str, data: NDArray):\n",
    "    store = FSStore(url=file_path.resolve())\n",
    "    # create array\n",
    "    array = zarr.create(\n",
    "        store=store,\n",
    "        shape=data.shape,\n",
    "        chunks=data.shape,  # only 1 chunk\n",
    "        dtype=np.uint16,\n",
    "        path=data_path,\n",
    "    )\n",
    "    # write data\n",
    "    array[...] = data\n",
    "    store.close()\n",
    "\n",
    "def create_zarr(\n",
    "    file_path: Path, data_paths: Sequence[str], data: Sequence[NDArray]\n",
    "):\n",
    "    for data_path, array in zip(data_paths, data):\n",
    "        create_zarr_array(file_path=file_path, data_path=data_path, data=array)"
   ]
  },
  {
   "cell_type": "markdown",
   "metadata": {},
   "source": [
    "### Create example ZARR file"
   ]
  },
  {
   "cell_type": "code",
   "execution_count": null,
   "metadata": {},
   "outputs": [],
   "source": [
    "dir_path = Path(\"/home/melisande.croft/Documents/Data\")\n",
    "file_name = \"test_ngff_image.zarr\"\n",
    "file_path = dir_path / file_name\n",
    "\n",
    "data_paths = [\n",
    "    \"image_1\",\n",
    "    \"group_1/image_1.1\",\n",
    "    \"group_1/image_1.2\",\n",
    "]\n",
    "data_shapes = [\n",
    "    (1, 3, 64, 64),\n",
    "    (1, 3, 32, 48),\n",
    "    (1, 3, 32, 32)\n",
    "]\n",
    "data = [\n",
    "    np.random.randint(1, 255, size=shape, dtype=np.uint8) for shape in data_shapes\n",
    "]\n",
    "if not file_path.is_file() and not file_path.is_dir():\n",
    "    create_zarr(file_path, data_paths, data)"
   ]
  },
  {
   "cell_type": "markdown",
   "metadata": {},
   "source": [
    "### Make sure file exists"
   ]
  },
  {
   "cell_type": "code",
   "execution_count": null,
   "metadata": {},
   "outputs": [],
   "source": [
    "store = FSStore(url=file_path.resolve(), mode=\"r\")"
   ]
  },
  {
   "cell_type": "code",
   "execution_count": null,
   "metadata": {},
   "outputs": [],
   "source": [
    "list(store.keys())"
   ]
  },
  {
   "cell_type": "markdown",
   "metadata": {},
   "source": [
    "### Define custom loading function"
   ]
  },
  {
   "cell_type": "code",
   "execution_count": null,
   "metadata": {},
   "outputs": [],
   "source": [
    "class ZarrSource(TypedDict):\n",
    "    store: FSStore\n",
    "    data_paths: Sequence[str]\n",
    "\n",
    "def custom_image_stack_loader(\n",
    "    source: ZarrSource, axes: str, *args, **kwargs\n",
    "):\n",
    "    image_stacks = [\n",
    "        ZarrImageStack(store=source[\"store\"], data_path=data_path, axes=axes)\n",
    "        for data_path in source[\"data_paths\"]\n",
    "    ]\n",
    "    return image_stacks"
   ]
  },
  {
   "cell_type": "markdown",
   "metadata": {},
   "source": [
    "### Test custom loading func"
   ]
  },
  {
   "cell_type": "code",
   "execution_count": null,
   "metadata": {},
   "outputs": [],
   "source": [
    "# dummy data config\n",
    "data_config = DataConfig(\n",
    "    data_type=\"custom\", patch_size=[64, 64], axes=\"SCYX\"\n",
    ")"
   ]
  },
  {
   "cell_type": "code",
   "execution_count": null,
   "metadata": {},
   "outputs": [],
   "source": [
    "from careamics.config.support import SupportedData"
   ]
  },
  {
   "cell_type": "code",
   "execution_count": null,
   "metadata": {},
   "outputs": [],
   "source": [
    "from careamics.dataset_ng.patch_extractor.image_stack_loader import ImageStackLoader\n",
    "\n",
    "image_stack_loader: ImageStackLoader = custom_image_stack_loader"
   ]
  },
  {
   "cell_type": "code",
   "execution_count": null,
   "metadata": {},
   "outputs": [],
   "source": [
    "# So pylance knows that datatype is custom to match function overloads\n",
    "assert data_config.data_type is SupportedData.CUSTOM\n",
    "\n",
    "patch_extractor = create_patch_extractor(\n",
    "    source={\"store\": store, \"data_paths\":data_paths},\n",
    "    axes=data_config.axes,\n",
    "    data_type=data_config.data_type,\n",
    "    image_stack_loader=custom_image_stack_loader,\n",
    ")"
   ]
  },
  {
   "cell_type": "code",
   "execution_count": null,
   "metadata": {},
   "outputs": [],
   "source": [
    "# extract patch and display\n",
    "patch = patch_extractor.extract_patch(2, 0, (8, 16), (16, 16))\n",
    "plt.imshow(np.moveaxis(patch, 0, -1))"
   ]
  },
  {
   "cell_type": "code",
   "execution_count": null,
   "metadata": {},
   "outputs": [],
   "source": []
  }
 ],
 "metadata": {
  "kernelspec": {
   "display_name": "Python 3",
   "language": "python",
   "name": "python3"
  },
  "language_info": {
   "codemirror_mode": {
    "name": "ipython",
    "version": 3
   },
   "file_extension": ".py",
   "mimetype": "text/x-python",
   "name": "python",
   "nbconvert_exporter": "python",
   "pygments_lexer": "ipython3",
   "version": "3.11.11"
  }
 },
 "nbformat": 4,
 "nbformat_minor": 2
}
