{
 "cells": [
  {
   "cell_type": "code",
   "execution_count": null,
   "id": "0",
   "metadata": {},
   "outputs": [],
   "source": [
    "from pathlib import Path\n",
    "\n",
    "import matplotlib.pyplot as plt\n",
    "import numpy as np\n",
    "import skimage\n",
    "import tifffile\n",
    "\n",
    "from careamics.config import create_n2n_configuration\n",
    "from careamics.dataset_ng.dataset.dataset import CareamicsDataset, Mode"
   ]
  },
  {
   "cell_type": "code",
   "execution_count": null,
   "id": "1",
   "metadata": {},
   "outputs": [],
   "source": [
    "example_data = skimage.data.human_mitosis()\n",
    "\n",
    "markers = np.zeros_like(example_data)\n",
    "markers[example_data < 25] = 1\n",
    "markers[example_data > 50] = 2\n",
    "\n",
    "elevation_map = skimage.filters.sobel(example_data)\n",
    "segmentation = skimage.segmentation.watershed(elevation_map, markers)\n",
    "\n",
    "fig, ax = plt.subplots(1, 2)\n",
    "ax[0].imshow(example_data)\n",
    "ax[1].imshow(segmentation)\n",
    "plt.show()"
   ]
  },
  {
   "cell_type": "markdown",
   "id": "2",
   "metadata": {},
   "source": [
    "### 1. From an array "
   ]
  },
  {
   "cell_type": "code",
   "execution_count": null,
   "id": "3",
   "metadata": {},
   "outputs": [],
   "source": [
    "# 1. Train val from an array\n",
    "\n",
    "train_data_config = create_n2n_configuration(\n",
    "    \"test_exp\",\n",
    "    data_type=\"array\",\n",
    "    axes=\"YX\",\n",
    "    patch_size=(32, 32),\n",
    "    batch_size=1,\n",
    "    num_epochs=1,\n",
    ").data_config\n",
    "\n",
    "val_data_config = create_n2n_configuration(\n",
    "    \"test_exp\",\n",
    "    data_type=\"array\",\n",
    "    axes=\"YX\",\n",
    "    patch_size=(32, 32),\n",
    "    batch_size=1,\n",
    "    num_epochs=1,\n",
    "    augmentations=[],\n",
    ").data_config\n",
    "\n",
    "\n",
    "train_dataset = CareamicsDataset(\n",
    "    data_config=train_data_config,\n",
    "    mode=Mode.TRAINING,\n",
    "    inputs=[example_data],\n",
    "    targets=[segmentation],\n",
    ")\n",
    "val_dataset = CareamicsDataset(\n",
    "    data_config=val_data_config,\n",
    "    mode=Mode.VALIDATING,\n",
    "    inputs=[example_data],\n",
    "    targets=[segmentation],\n",
    ")\n",
    "\n",
    "fig, ax = plt.subplots(2, 5, figsize=(10, 5))\n",
    "ax[0, 0].set_title(\"Train input\")\n",
    "ax[1, 0].set_title(\"Train target\")\n",
    "for i in range(5):\n",
    "    sample, target = train_dataset[i]\n",
    "    ax[0, i].imshow(sample.data[0])\n",
    "    ax[1, i].imshow(target.data[0])"
   ]
  },
  {
   "cell_type": "markdown",
   "id": "4",
   "metadata": {},
   "source": [
    "### 2. From tiff "
   ]
  },
  {
   "cell_type": "code",
   "execution_count": null,
   "id": "5",
   "metadata": {},
   "outputs": [],
   "source": [
    "tifffile.imwrite(\"example_data1.tiff\", example_data)\n",
    "tifffile.imwrite(\"example_target1.tiff\", segmentation)\n",
    "tifffile.imwrite(\"example_data2.tiff\", example_data[:256, :256])\n",
    "tifffile.imwrite(\"example_target2.tiff\", segmentation[:256, :256])\n",
    "\n",
    "train_data_config = create_n2n_configuration(\n",
    "    \"test_exp\",\n",
    "    data_type=\"tiff\",\n",
    "    axes=\"YX\",\n",
    "    patch_size=(32, 32),\n",
    "    batch_size=1,\n",
    "    num_epochs=1,\n",
    ").data_config\n",
    "\n",
    "val_data_config = create_n2n_configuration(\n",
    "    \"test_exp\",\n",
    "    data_type=\"tiff\",\n",
    "    axes=\"YX\",\n",
    "    patch_size=(32, 32),\n",
    "    batch_size=1,\n",
    "    num_epochs=1,\n",
    "    augmentations=[],\n",
    ").data_config\n",
    "\n",
    "data = sorted(Path(\"./\").glob(\"example_data*.tiff\"))\n",
    "targets = sorted(Path(\"./\").glob(\"example_target*.tiff\"))\n",
    "train_dataset = CareamicsDataset(\n",
    "    data_config=train_data_config, inputs=data, targets=targets\n",
    ")\n",
    "val_dataset = CareamicsDataset(\n",
    "    data_config=val_data_config, inputs=data, targets=targets\n",
    ")\n",
    "\n",
    "fig, ax = plt.subplots(2, 5, figsize=(10, 5))\n",
    "ax[0, 0].set_title(\"Train input\")\n",
    "ax[1, 0].set_title(\"Train target\")\n",
    "for i in range(5):\n",
    "    sample, target = train_dataset[i]\n",
    "    ax[0, i].imshow(sample.data[0])\n",
    "    ax[1, i].imshow(target.data[0])"
   ]
  },
  {
   "cell_type": "markdown",
   "id": "6",
   "metadata": {},
   "source": [
    "### 3. Prediction from array"
   ]
  },
  {
   "cell_type": "code",
   "execution_count": null,
   "id": "7",
   "metadata": {},
   "outputs": [],
   "source": [
    "from careamics.config import InferenceConfig\n",
    "\n",
    "prediction_config = InferenceConfig(\n",
    "    data_type=\"array\",\n",
    "    tile_size=(32, 32),\n",
    "    tile_overlap=(16, 16),\n",
    "    axes=\"YX\",\n",
    "    image_means=(example_data.mean(),),\n",
    "    image_stds=(example_data.std(),),\n",
    "    tta_transforms=False,\n",
    "    batch_size=1,\n",
    ")\n",
    "prediction_dataset = CareamicsDataset(\n",
    "    data_config=prediction_config, mode=Mode.PREDICTING, inputs=[example_data]\n",
    ")\n",
    "\n",
    "fig, ax = plt.subplots(1, 5, figsize=(10, 5))\n",
    "ax[0].set_title(\"Prediction input\")\n",
    "for i in range(5):\n",
    "    sample, _ = prediction_dataset[i]\n",
    "    ax[i].imshow(sample.data[0])"
   ]
  },
  {
   "cell_type": "markdown",
   "id": "8",
   "metadata": {},
   "source": [
    "### 4. From custom data type "
   ]
  },
  {
   "cell_type": "code",
   "execution_count": null,
   "id": "9",
   "metadata": {},
   "outputs": [],
   "source": [
    "train_data_config = create_n2n_configuration(\n",
    "    \"test_exp\",\n",
    "    data_type=\"custom\",\n",
    "    axes=\"YX\",\n",
    "    patch_size=(32, 32),\n",
    "    batch_size=1,\n",
    "    num_epochs=1,\n",
    ").data_config\n",
    "\n",
    "\n",
    "def read_data_func_test(data):\n",
    "    return 255 - example_data\n",
    "\n",
    "\n",
    "fig, ax = plt.subplots(1, 5, figsize=(10, 5))\n",
    "train_dataset = CareamicsDataset(\n",
    "    data_config=train_data_config,\n",
    "    mode=Mode.TRAINING,\n",
    "    inputs=[example_data],\n",
    "    targets=[segmentation],\n",
    "    read_func=read_data_func_test,\n",
    "    read_kwargs={}\n",
    ")\n",
    "\n",
    "for i in range(5):\n",
    "    sample, _ = train_dataset[i]\n",
    "    ax[i].imshow(sample.data[0])"
   ]
  },
  {
   "cell_type": "code",
   "execution_count": null,
   "id": "10",
   "metadata": {},
   "outputs": [],
   "source": []
  }
 ],
 "metadata": {
  "kernelspec": {
   "display_name": "Python 3",
   "language": "python",
   "name": "python3"
  },
  "language_info": {
   "codemirror_mode": {
    "name": "ipython",
    "version": 3
   },
   "file_extension": ".py",
   "mimetype": "text/x-python",
   "name": "python",
   "nbconvert_exporter": "python",
   "pygments_lexer": "ipython3",
   "version": "3.11.11"
  }
 },
 "nbformat": 4,
 "nbformat_minor": 5
}
