{
 "cells": [
  {
   "cell_type": "code",
   "execution_count": null,
   "metadata": {},
   "outputs": [],
   "source": [
    "from pathlib import Path\n",
    "from typing import Optional, Literal, Union\n",
    "\n",
    "import numpy as np\n",
    "import torch \n",
    "from torch.utils.data import Dataset, DataLoader\n",
    "\n",
    "from careamics.config import VAEAlgorithmConfig\n",
    "from careamics.config.architectures import LVAEModel\n",
    "from careamics.config.likelihood_model import (\n",
    "    GaussianLikelihoodConfig,\n",
    "    NMLikelihoodConfig,\n",
    ")\n",
    "from careamics.config.nm_model import GaussianMixtureNMConfig, MultiChannelNMConfig\n",
    "from careamics.lightning import VAEModule\n",
    "from careamics.models.lvae.noise_models import noise_model_factory"
   ]
  },
  {
   "cell_type": "markdown",
   "metadata": {},
   "source": [
    "## 1. Create `Dataset` and `Dataloader`"
   ]
  },
  {
   "cell_type": "markdown",
   "metadata": {},
   "source": [
    "### 1.1. Dummy Data"
   ]
  },
  {
   "cell_type": "code",
   "execution_count": null,
   "metadata": {},
   "outputs": [],
   "source": [
    "class DummyDataset(Dataset):\n",
    "    def __init__(self, num_samples, input_shape, target_shape):\n",
    "        self.num_samples = num_samples\n",
    "        self.input_shape = input_shape\n",
    "        self.target_shape = target_shape\n",
    "    \n",
    "    def __len__(self):\n",
    "        return self.num_samples\n",
    "    \n",
    "    def __getitem__(self, idx):\n",
    "        input_tensor = torch.randn(*self.input_shape)\n",
    "        target_tensor = torch.randn(*self.target_shape)\n",
    "        return input_tensor, target_tensor\n",
    "\n",
    "def dummy_dataloader(request):\n",
    "    # Parameters for customization\n",
    "    batch_size = request.param.get(\"batch_size\", 2)\n",
    "    num_samples = request.param.get(\"num_samples\", 10)\n",
    "    input_shape = request.param.get(\"input_shape\", (3, 64, 64))  # C_1, X, Y\n",
    "    target_shape = request.param.get(\"target_shape\", (1, 64, 64))  # C_2, X, Y\n",
    "    \n",
    "    dataset = DummyDataset(num_samples, input_shape, target_shape)\n",
    "    return DataLoader(dataset, batch_size=batch_size, shuffle=True)"
   ]
  },
  {
   "cell_type": "markdown",
   "metadata": {},
   "source": [
    "### 1.2. Real Data"
   ]
  },
  {
   "cell_type": "code",
   "execution_count": null,
   "metadata": {},
   "outputs": [],
   "source": []
  },
  {
   "cell_type": "markdown",
   "metadata": {},
   "source": [
    "## 2. Instantiate the lightning module"
   ]
  },
  {
   "cell_type": "code",
   "execution_count": null,
   "metadata": {},
   "outputs": [],
   "source": [
    "def create_dummy_noise_model(\n",
    "    save_path: Optional[Union[Path, str]] = None,\n",
    "    n_gaussians: int = 3,\n",
    "    n_coeffs: int = 3,\n",
    ") -> Path:\n",
    "    weights = np.random.rand(3*n_gaussians, n_coeffs)\n",
    "    nm_dict = {\n",
    "        \"trained_weight\": weights,\n",
    "        \"min_signal\": np.array([0]),\n",
    "        \"max_signal\": np.array([2**16 - 1]),\n",
    "        \"min_sigma\": 0.125,\n",
    "    }\n",
    "    out_path = Path(save_path) / \"dummy_noise_model.npz\"\n",
    "    np.savez(out_path, **nm_dict)\n",
    "    return out_path"
   ]
  },
  {
   "cell_type": "code",
   "execution_count": null,
   "metadata": {},
   "outputs": [],
   "source": [
    "def create_split_lightning_model(\n",
    "    algorithm: str,\n",
    "    loss_type: str,\n",
    "    multiscale_count: int = 1,\n",
    "    predict_logvar: Optional[Literal[\"pixelwise\"]] = None,\n",
    "    target_ch: int = 1,\n",
    "    NM_path: Optional[Path] = None,\n",
    ") -> VAEModule:\n",
    "    \"\"\"Instantiate the muSplit lightining model.\"\"\"\n",
    "    lvae_config = LVAEModel(\n",
    "        architecture=\"LVAE\",\n",
    "        input_shape=64,\n",
    "        multiscale_count=multiscale_count,\n",
    "        z_dims=[128, 128, 128, 128],\n",
    "        output_channels=target_ch,\n",
    "        predict_logvar=predict_logvar,\n",
    "    )\n",
    "\n",
    "    # gaussian likelihood\n",
    "    if loss_type in [\"musplit\", \"denoisplit_musplit\"]:\n",
    "        gaussian_lik_config = GaussianLikelihoodConfig(\n",
    "            predict_logvar=predict_logvar,\n",
    "            logvar_lowerbound=0.0,\n",
    "        )\n",
    "    else:\n",
    "        gaussian_lik_config = None\n",
    "    # noise model likelihood\n",
    "    if loss_type in [\"denoisplit\", \"denoisplit_musplit\"]:\n",
    "        if NM_path is None:\n",
    "            NM_path = create_dummy_noise_model(Path(\"./\"), 3, 3)\n",
    "        gmm = GaussianMixtureNMConfig(\n",
    "            model_type=\"GaussianMixtureNoiseModel\",\n",
    "            path=NM_path,\n",
    "        )\n",
    "        noise_model_config = MultiChannelNMConfig(noise_models=[gmm] * target_ch)\n",
    "        nm = noise_model_factory(noise_model_config)\n",
    "        nm_lik_config = NMLikelihoodConfig(noise_model=nm)\n",
    "    else:\n",
    "        noise_model_config = None\n",
    "        nm_lik_config = None\n",
    "\n",
    "    vae_config = VAEAlgorithmConfig(\n",
    "        algorithm_type=\"vae\",\n",
    "        algorithm=algorithm,\n",
    "        loss=loss_type,\n",
    "        model=lvae_config,\n",
    "        gaussian_likelihood_model=gaussian_lik_config,\n",
    "        noise_model=noise_model_config,\n",
    "        noise_model_likelihood_model=nm_lik_config,\n",
    "    )\n",
    "\n",
    "    return VAEModule(\n",
    "        algorithm_config=vae_config,\n",
    "    )"
   ]
  },
  {
   "cell_type": "code",
   "execution_count": null,
   "metadata": {},
   "outputs": [],
   "source": [
    "lightning_model = create_split_lightning_model(\n",
    "    algorithm=\"musplit\",\n",
    "    loss_type=\"musplit\",\n",
    "    multiscale_count=1,\n",
    "    predict_logvar=\"pixelwise\",\n",
    "    target_ch=2,\n",
    "    NM_path=None\n",
    ")"
   ]
  },
  {
   "cell_type": "markdown",
   "metadata": {},
   "source": [
    "## 3. Define train utils "
   ]
  },
  {
   "cell_type": "code",
   "execution_count": null,
   "metadata": {},
   "outputs": [],
   "source": []
  },
  {
   "cell_type": "markdown",
   "metadata": {},
   "source": [
    "## 4. Train the model"
   ]
  },
  {
   "cell_type": "code",
   "execution_count": null,
   "metadata": {},
   "outputs": [],
   "source": []
  }
 ],
 "metadata": {
  "kernelspec": {
   "display_name": "train_lvae",
   "language": "python",
   "name": "python3"
  },
  "language_info": {
   "codemirror_mode": {
    "name": "ipython",
    "version": 3
   },
   "file_extension": ".py",
   "mimetype": "text/x-python",
   "name": "python",
   "nbconvert_exporter": "python",
   "pygments_lexer": "ipython3",
   "version": "3.9.19"
  }
 },
 "nbformat": 4,
 "nbformat_minor": 2
}
