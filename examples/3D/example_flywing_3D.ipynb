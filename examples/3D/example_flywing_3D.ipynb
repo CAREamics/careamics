{
 "cells": [
  {
   "cell_type": "code",
   "execution_count": null,
   "metadata": {},
   "outputs": [],
   "source": [
    "from pathlib import Path\n",
    "\n",
    "import matplotlib.pyplot as plt\n",
    "import numpy as np\n",
    "import tifffile\n",
    "from careamics_portfolio import PortfolioManager\n",
    "\n",
    "# from itkwidgets import compare, view  # \"pip install itkwidgets \"if necessary\n",
    "from pytorch_lightning import Trainer\n",
    "\n",
    "from careamics import CAREamicsModule\n",
    "from careamics.lightning_datamodule import (\n",
    "    CAREamicsPredictDataModule,\n",
    "    CAREamicsTrainDataModule,\n",
    ")\n",
    "from careamics.lightning_prediction import CAREamicsPredictionLoop"
   ]
  },
  {
   "cell_type": "code",
   "execution_count": null,
   "metadata": {},
   "outputs": [],
   "source": [
    "%reload_ext autoreload"
   ]
  },
  {
   "attachments": {},
   "cell_type": "markdown",
   "metadata": {},
   "source": [
    "### Import Dataset Portfolio\n"
   ]
  },
  {
   "cell_type": "code",
   "execution_count": null,
   "metadata": {},
   "outputs": [],
   "source": [
    "# Explore portfolio\n",
    "portfolio = PortfolioManager()\n",
    "print(portfolio.denoising)"
   ]
  },
  {
   "attachments": {},
   "cell_type": "markdown",
   "metadata": {},
   "source": [
    "Read the specific dataset \n",
    "bla "
   ]
  },
  {
   "cell_type": "code",
   "execution_count": null,
   "metadata": {},
   "outputs": [],
   "source": [
    "# Download files\n",
    "root_path = Path(\"data\")\n",
    "files = portfolio.denoising.Flywing.download(root_path)\n",
    "print(f\"List of downloaded files: {files}\")"
   ]
  },
  {
   "cell_type": "code",
   "execution_count": null,
   "metadata": {},
   "outputs": [],
   "source": [
    "data_path = Path(root_path / \"denoising-Flywing.unzip\")\n",
    "\n",
    "data_path.mkdir(parents=True, exist_ok=True)"
   ]
  },
  {
   "attachments": {},
   "cell_type": "markdown",
   "metadata": {},
   "source": [
    "### Visualize the data"
   ]
  },
  {
   "cell_type": "code",
   "execution_count": null,
   "metadata": {},
   "outputs": [],
   "source": [
    "train_image = tifffile.imread(next(iter(data_path.rglob(\"*.tif\"))))\n",
    "print(f\"Train image shape: {train_image.shape}\")\n",
    "plt.imshow(np.max(train_image, axis=0), cmap=\"magma\")"
   ]
  },
  {
   "attachments": {},
   "cell_type": "markdown",
   "metadata": {},
   "source": [
    "### [Optional] Visualize the data in 3D"
   ]
  },
  {
   "cell_type": "code",
   "execution_count": null,
   "metadata": {},
   "outputs": [],
   "source": [
    "# View 3D image\n",
    "view(train_image)"
   ]
  },
  {
   "attachments": {},
   "cell_type": "markdown",
   "metadata": {},
   "source": [
    "### Initialize the Model\n",
    "\n",
    "Create a Pytorch Lightning module\n",
    "\n",
    "Please take as look at the [documentation](https://careamics.github.io) to see the full list of parameters and configuration options"
   ]
  },
  {
   "cell_type": "code",
   "execution_count": null,
   "metadata": {},
   "outputs": [],
   "source": [
    "# N2V2 requires changes to the UNet model and to the Dataset (augmentations)\n",
    "use_n2v2 = False  # change to True to use N2V2"
   ]
  },
  {
   "cell_type": "code",
   "execution_count": null,
   "metadata": {},
   "outputs": [],
   "source": [
    "model = CAREamicsModule(\n",
    "    algorithm=\"n2v\",\n",
    "    loss=\"n2v\",\n",
    "    architecture=\"UNet\",\n",
    "    model_parameters={\"n2v2\": use_n2v2, \"conv_dims\": 3},\n",
    "    optimizer_parameters={\"lr\": 1e-3},\n",
    "    lr_scheduler_parameters={\"factor\": 0.5, \"patience\": 10},\n",
    ")"
   ]
  },
  {
   "attachments": {},
   "cell_type": "markdown",
   "metadata": {},
   "source": [
    "### Initialize the datamodule\n",
    "\n",
    "The data module can take a `Path` or `str` to a folder or file, or a `np.ndarray`.\n",
    "\n",
    "For custom types, you need to pass a read function and an extension_filter."
   ]
  },
  {
   "cell_type": "code",
   "execution_count": null,
   "metadata": {},
   "outputs": [],
   "source": [
    "train_data_module = CAREamicsTrainDataModule(\n",
    "    train_data=train_image,\n",
    "    data_type=\"array\",  # to use np.ndarray, set data_type to \"array\"\n",
    "    patch_size=(32, 64, 64),\n",
    "    axes=\"ZYX\",\n",
    "    batch_size=32,\n",
    "    dataloader_params={\"num_workers\": 0},\n",
    "    use_n2v2=use_n2v2,\n",
    "    struct_n2v_axis=\"none\",  # choice between \"horizontal\", \"vertical\", or \"none\" (no # structN2V)\n",
    "    struct_n2v_span=7,\n",
    ")"
   ]
  },
  {
   "attachments": {},
   "cell_type": "markdown",
   "metadata": {},
   "source": [
    "### Run training \n",
    "\n",
    "We need to specify the paths to training and validation data"
   ]
  },
  {
   "cell_type": "code",
   "execution_count": null,
   "metadata": {},
   "outputs": [],
   "source": [
    "trainer = Trainer(max_epochs=1, default_root_dir=\"bsd_test\")"
   ]
  },
  {
   "cell_type": "code",
   "execution_count": null,
   "metadata": {},
   "outputs": [],
   "source": [
    "trainer.fit(model, datamodule=train_data_module)"
   ]
  },
  {
   "attachments": {},
   "cell_type": "markdown",
   "metadata": {},
   "source": [
    "### Define a prediction datamodule"
   ]
  },
  {
   "cell_type": "code",
   "execution_count": null,
   "metadata": {},
   "outputs": [],
   "source": [
    "pred_data_module = CAREamicsPredictDataModule(\n",
    "    pred_data=train_image[:, :128, :128],\n",
    "    data_type=\"array\",\n",
    "    tile_size=(32, 64, 64),\n",
    "    tile_overlap=(16, 48, 48),\n",
    "    axes=\"ZYX\",\n",
    "    batch_size=1,\n",
    "    tta_transforms=True,\n",
    "    dataloader_params={\"num_workers\": 0},\n",
    ")"
   ]
  },
  {
   "attachments": {},
   "cell_type": "markdown",
   "metadata": {},
   "source": [
    "### Run prediction\n",
    "\n",
    "First, we want to use CAREamics prediction loop, which allows tiling:"
   ]
  },
  {
   "cell_type": "code",
   "execution_count": null,
   "metadata": {},
   "outputs": [],
   "source": [
    "tiled_loop = CAREamicsPredictionLoop(trainer)\n",
    "trainer.predict_loop = tiled_loop"
   ]
  },
  {
   "attachments": {},
   "cell_type": "markdown",
   "metadata": {},
   "source": [
    "Then, we predict using the datamodule."
   ]
  },
  {
   "cell_type": "code",
   "execution_count": null,
   "metadata": {},
   "outputs": [],
   "source": [
    "preds = trainer.predict(model, datamodule=pred_data_module)"
   ]
  },
  {
   "attachments": {},
   "cell_type": "markdown",
   "metadata": {},
   "source": [
    "### Visualize predictions\n"
   ]
  },
  {
   "cell_type": "code",
   "execution_count": null,
   "metadata": {},
   "outputs": [],
   "source": [
    "print(f\"Train image shape: {preds.shape}\")\n",
    "plt.imshow(np.max(preds.squeeze(), axis=0), cmap=\"magma\")"
   ]
  },
  {
   "attachments": {},
   "cell_type": "markdown",
   "metadata": {},
   "source": [
    "### [Optional] Visualize predictions in 3D"
   ]
  },
  {
   "cell_type": "code",
   "execution_count": null,
   "metadata": {},
   "outputs": [],
   "source": [
    "compare(train_image, preds.squeeze())"
   ]
  }
 ],
 "metadata": {
  "kernelspec": {
   "display_name": "Python 3.11.3 ('caremics')",
   "language": "python",
   "name": "python3"
  },
  "language_info": {
   "codemirror_mode": {
    "name": "ipython",
    "version": 3
   },
   "file_extension": ".py",
   "mimetype": "text/x-python",
   "name": "python",
   "nbconvert_exporter": "python",
   "pygments_lexer": "ipython3",
   "version": "3.9.18"
  },
  "vscode": {
   "interpreter": {
    "hash": "0d2a5a3ab9ff26e8b66efec3883fa5121030bb852a7a4271db665831444e4e91"
   }
  }
 },
 "nbformat": 4,
 "nbformat_minor": 2
}
