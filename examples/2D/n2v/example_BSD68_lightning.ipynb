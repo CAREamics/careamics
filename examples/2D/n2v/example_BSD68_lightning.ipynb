{
 "cells": [
  {
   "cell_type": "code",
   "execution_count": null,
   "metadata": {},
   "outputs": [],
   "source": [
    "from pathlib import Path\n",
    "\n",
    "import matplotlib.pyplot as plt\n",
    "import tifffile\n",
    "from careamics_portfolio import PortfolioManager\n",
    "from pytorch_lightning import Trainer\n",
    "\n",
    "from careamics import CAREamicsModule\n",
    "from careamics.lightning_datamodule import (\n",
    "    CAREamicsPredictDataModule,\n",
    "    CAREamicsTrainDataModule,\n",
    ")\n",
<<<<<<< Updated upstream
    "from careamics.lightning_prediction import CAREamicsPredictionLoop\n",
=======
    "from careamics.lightning_prediction import CAREamicsFiring\n",
>>>>>>> Stashed changes
    "from careamics.utils.metrics import psnr"
   ]
  },
  {
   "attachments": {},
   "cell_type": "markdown",
   "metadata": {},
   "source": [
    "### Import Dataset Portfolio"
   ]
  },
  {
   "cell_type": "code",
   "execution_count": null,
   "metadata": {},
   "outputs": [],
   "source": [
    "# Explore portfolio\n",
    "portfolio = PortfolioManager()\n",
    "print(portfolio.denoising)"
   ]
  },
  {
   "cell_type": "code",
   "execution_count": null,
   "metadata": {},
   "outputs": [],
   "source": [
    "# Download and unzip the files\n",
    "root_path = Path(\"data\")\n",
    "files = portfolio.denoising.N2V_BSD68.download(root_path)\n",
    "print(f\"List of downloaded files: {files}\")"
   ]
  },
  {
   "cell_type": "code",
   "execution_count": null,
   "metadata": {},
   "outputs": [],
   "source": [
    "data_path = Path(root_path / \"denoising-N2V_BSD68.unzip/BSD68_reproducibility_data\")\n",
    "train_path = data_path / \"train\"\n",
    "val_path = data_path / \"val\"\n",
    "test_path = data_path / \"test\" / \"images\"\n",
    "gt_path = data_path / \"test\" / \"gt\"\n",
    "\n",
    "train_path.mkdir(parents=True, exist_ok=True)\n",
    "val_path.mkdir(parents=True, exist_ok=True)\n",
    "test_path.mkdir(parents=True, exist_ok=True)\n",
    "gt_path.mkdir(parents=True, exist_ok=True)"
   ]
  },
  {
   "attachments": {},
   "cell_type": "markdown",
   "metadata": {},
   "source": [
    "### Visualize training data"
   ]
  },
  {
   "cell_type": "code",
   "execution_count": null,
   "metadata": {},
   "outputs": [],
   "source": [
    "train_image = tifffile.imread(next(iter(train_path.rglob(\"*.tiff\"))))[0]\n",
    "print(f\"Train image shape: {train_image.shape}\")\n",
    "plt.imshow(train_image, cmap=\"gray\")"
   ]
  },
  {
   "attachments": {},
   "cell_type": "markdown",
   "metadata": {},
   "source": [
    "### Visualize validation data"
   ]
  },
  {
   "cell_type": "code",
   "execution_count": null,
   "metadata": {},
   "outputs": [],
   "source": [
    "val_image = tifffile.imread(next(iter(val_path.rglob(\"*.tiff\"))))[0]\n",
    "print(f\"Validation image shape: {val_image.shape}\")\n",
    "plt.imshow(val_image, cmap=\"gray\")"
   ]
  },
  {
   "attachments": {},
   "cell_type": "markdown",
   "metadata": {},
   "source": [
    "### Initialize the Model\n",
    "\n",
    "Create a Pytorch Lightning module\n",
    "\n",
    "Please take as look at the [documentation](https://careamics.github.io) to see the full list of parameters and configuration options"
   ]
  },
  {
   "cell_type": "code",
   "execution_count": null,
   "metadata": {},
   "outputs": [],
   "source": [
    "# N2V2 requires changes to the UNet model and to the Dataset (augmentations)\n",
    "use_n2v2 = False  # change to True to use N2V2"
   ]
  },
  {
   "cell_type": "code",
   "execution_count": null,
   "metadata": {},
   "outputs": [],
   "source": [
    "model = CAREamicsModule(\n",
    "    algorithm=\"n2v\",\n",
    "    loss=\"n2v\",\n",
    "    architecture=\"UNet\",\n",
    "    model_parameters={\"n2v2\": use_n2v2},\n",
    "    optimizer_parameters={\"lr\": 1e-3},\n",
    "    lr_scheduler_parameters={\"factor\": 0.5, \"patience\": 10},\n",
    ")"
   ]
  },
  {
   "attachments": {},
   "cell_type": "markdown",
   "metadata": {},
   "source": [
    "### Initialize the datamodule\n",
    "\n",
    "The data module can take a `Path` or `str` to a folder or file, or a `np.ndarray`.\n",
    "\n",
    "For custom types, you need to pass a read function and an extension_filter."
   ]
  },
  {
   "cell_type": "code",
   "execution_count": null,
   "metadata": {},
   "outputs": [],
   "source": [
    "train_data_module = CAREamicsTrainDataModule(\n",
    "    train_data=train_path,\n",
    "    val_data=val_path,\n",
<<<<<<< Updated upstream
    "    data_type=\"tiff\",  # to use np.ndarray, set data_type to \"array\"\n",
=======
    "    data_type=\"tiff\",\n",
>>>>>>> Stashed changes
    "    patch_size=(64, 64),\n",
    "    axes=\"SYX\",\n",
    "    batch_size=128,\n",
    "    dataloader_params={\"num_workers\": 4},\n",
    "    use_n2v2=use_n2v2,\n",
    "    struct_n2v_axis=\"none\",  # choice between \"horizontal\", \"vertical\", or \"none\" (no structN2V)\n",
    "    struct_n2v_span=7,\n",
    ")"
   ]
  },
  {
   "attachments": {},
   "cell_type": "markdown",
   "metadata": {},
   "source": [
    "### Run training \n",
    "\n",
    "We need to specify the paths to training and validation data"
   ]
  },
  {
   "cell_type": "code",
   "execution_count": null,
   "metadata": {},
   "outputs": [],
   "source": [
    "trainer = Trainer(max_epochs=1, default_root_dir=\"bsd_test\")"
   ]
  },
  {
   "cell_type": "code",
   "execution_count": null,
   "metadata": {},
   "outputs": [],
   "source": [
    "trainer.fit(model, datamodule=train_data_module)"
   ]
  },
  {
   "attachments": {},
   "cell_type": "markdown",
   "metadata": {},
   "source": [
    "### Define a prediction datamodule"
   ]
  },
  {
   "cell_type": "code",
   "execution_count": null,
   "metadata": {},
   "outputs": [],
   "source": [
    "pred_data_module = CAREamicsPredictDataModule(\n",
    "    pred_data=test_path,\n",
    "    data_type=\"tiff\",\n",
    "    tile_size=(256, 256),\n",
    "    tile_overlap=(48, 48),\n",
    "    axes=\"YX\",\n",
    "    batch_size=1,\n",
    "    tta_transforms=True,\n",
    ")"
   ]
  },
  {
   "attachments": {},
   "cell_type": "markdown",
   "metadata": {},
   "source": [
    "### Run prediction\n",
    "\n",
    "First, we want to use CAREamics prediction loop, which allows tiling:"
   ]
  },
  {
   "cell_type": "code",
   "execution_count": null,
   "metadata": {},
   "outputs": [],
   "source": [
    "tiled_loop = CAREamicsPredictionLoop(trainer)\n",
    "trainer.predict_loop = tiled_loop"
   ]
  },
  {
   "cell_type": "markdown",
   "metadata": {},
   "source": [
    "Then, we predict using the datamodule."
   ]
  },
  {
   "cell_type": "code",
   "execution_count": null,
   "metadata": {},
   "outputs": [],
   "source": [
    "preds = trainer.predict(model, datamodule=pred_data_module)"
   ]
  },
  {
   "attachments": {},
   "cell_type": "markdown",
   "metadata": {},
   "source": [
    "### Visualize results and compute metrics\n"
   ]
  },
  {
   "cell_type": "code",
   "execution_count": null,
   "metadata": {},
   "outputs": [],
   "source": [
    "# Create a list of ground truth images\n",
    "\n",
    "gts = [tifffile.imread(f) for f in sorted(gt_path.glob(\"*.tiff\"))]"
   ]
  },
  {
   "cell_type": "code",
   "execution_count": null,
   "metadata": {},
   "outputs": [],
   "source": [
    "# Plot single image\n",
    "\n",
    "image_idx = 0\n",
    "_, subplot = plt.subplots(1, 2, figsize=(10, 10))\n",
    "\n",
    "subplot[0].imshow(preds[image_idx].squeeze(), cmap=\"gray\")\n",
    "subplot[0].set_title(\"Prediction\")\n",
    "subplot[1].imshow(gts[image_idx], cmap=\"gray\")\n",
    "subplot[1].set_title(\"Ground truth\")\n",
    "\n",
    "\n",
    "# Calculate PSNR for single image\n",
    "psnr_single = psnr(preds[image_idx].squeeze(), gts[image_idx].squeeze())\n",
    "print(f\"PSNR for image {image_idx}: {psnr_single}\")"
   ]
  },
  {
   "cell_type": "code",
   "execution_count": null,
   "metadata": {},
   "outputs": [],
   "source": [
    "# Plot single image\n",
    "\n",
    "image_idx = 0\n",
    "_, subplot = plt.subplots(1, 2, figsize=(10, 10))\n",
    "\n",
    "subplot[0].imshow(preds[image_idx].squeeze(), cmap=\"gray\")\n",
    "subplot[0].set_title(\"Prediction\")\n",
    "subplot[1].imshow(gts[image_idx], cmap=\"gray\")\n",
    "subplot[1].set_title(\"Ground truth\")"
   ]
  },
  {
   "cell_type": "code",
   "execution_count": null,
   "metadata": {},
   "outputs": [],
   "source": [
    "# Calculate PSNR for single image\n",
    "\n",
    "psnr_single = psnr(gts[image_idx], preds[image_idx].squeeze())\n",
    "print(f\"PSNR for image {image_idx}: {psnr_single}\")"
   ]
  },
  {
   "cell_type": "code",
   "execution_count": null,
   "metadata": {},
   "outputs": [],
   "source": [
    "psnr_total = 0\n",
    "\n",
    "for pred, gt in zip(preds, gts):\n",
    "    psnr_total += psnr(gt, pred.squeeze())\n",
    "\n",
    "print(f\"PSNR total: {psnr_total / len(preds)}\")"
   ]
  },
  {
   "cell_type": "code",
   "execution_count": null,
   "metadata": {},
   "outputs": [],
   "source": []
  }
 ],
 "metadata": {
  "kernelspec": {
   "display_name": "Python 3.11.3 ('caremics')",
   "language": "python",
   "name": "python3"
  },
  "language_info": {
   "codemirror_mode": {
    "name": "ipython",
    "version": 3
   },
   "file_extension": ".py",
   "mimetype": "text/x-python",
   "name": "python",
   "nbconvert_exporter": "python",
   "pygments_lexer": "ipython3",
   "version": "3.8.17"
  },
  "vscode": {
   "interpreter": {
    "hash": "0d2a5a3ab9ff26e8b66efec3883fa5121030bb852a7a4271db665831444e4e91"
   }
  }
 },
 "nbformat": 4,
 "nbformat_minor": 2
}
